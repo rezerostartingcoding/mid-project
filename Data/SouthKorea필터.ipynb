{
  "nbformat": 4,
  "nbformat_minor": 0,
  "metadata": {
    "colab": {
      "provenance": []
    },
    "kernelspec": {
      "name": "python3",
      "display_name": "Python 3"
    },
    "language_info": {
      "name": "python"
    }
  },
  "cells": [
    {
      "cell_type": "code",
      "source": [
        "import pandas as pd\n",
        "\n",
        "file_path = \"/content/WHR_2018_2022.csv\"\n",
        "df = pd.read_csv(file_path)\n",
        "\n",
        "# 컬럼명 출력\n",
        "print(df.columns)"
      ],
      "metadata": {
        "colab": {
          "base_uri": "https://localhost:8080/"
        },
        "id": "EveKGvYBznY7",
        "outputId": "4197f086-13f3-415a-85f9-2cbc9c890083"
      },
      "execution_count": 1,
      "outputs": [
        {
          "output_type": "stream",
          "name": "stdout",
          "text": [
            "Index(['country', 'region', 'happiness_score', 'gdp_per_capita',\n",
            "       'social_support', 'healthy_life_expectancy',\n",
            "       'freedom_to_make_life_choices', 'generosity',\n",
            "       'perceptions_of_corruption', 'year'],\n",
            "      dtype='object')\n"
          ]
        }
      ]
    },
    {
      "cell_type": "code",
      "execution_count": 4,
      "metadata": {
        "colab": {
          "base_uri": "https://localhost:8080/"
        },
        "id": "ohnfmxWbzPwS",
        "outputId": "71d8cf11-d005-4688-bfbd-8a5824149002"
      },
      "outputs": [
        {
          "output_type": "stream",
          "name": "stdout",
          "text": [
            "Filtered data saved to: /content/KOR_WHR_2018_2022.csv\n"
          ]
        }
      ],
      "source": [
        "import pandas as pd\n",
        "\n",
        "# CSV 파일 로드\n",
        "file_path = \"/content/WHR_2018_2022.csv\"\n",
        "df = pd.read_csv(file_path)\n",
        "\n",
        "# Korea만 필터\n",
        "df_filtered = df[df['country'] == 'South Korea']\n",
        "\n",
        "# 결과 저장\n",
        "output_path = \"/content/KOR_WHR_2018_2022.csv\"\n",
        "df_filtered.to_csv(output_path, index=False)\n",
        "\n",
        "print(f\"Filtered data saved to: {output_path}\")"
      ]
    }
  ]
}