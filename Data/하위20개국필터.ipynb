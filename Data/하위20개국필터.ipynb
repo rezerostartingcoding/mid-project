{
  "nbformat": 4,
  "nbformat_minor": 0,
  "metadata": {
    "colab": {
      "provenance": []
    },
    "kernelspec": {
      "name": "python3",
      "display_name": "Python 3"
    },
    "language_info": {
      "name": "python"
    }
  },
  "cells": [
    {
      "cell_type": "code",
      "source": [
        "import pandas as pd\n",
        "\n",
        "file_path = \"/content/WHR_2018_2022.csv\"\n",
        "df = pd.read_csv(file_path)\n",
        "\n",
        "# 컬럼명 출력\n",
        "print(df.columns)"
      ],
      "metadata": {
        "colab": {
          "base_uri": "https://localhost:8080/"
        },
        "id": "EveKGvYBznY7",
        "outputId": "e9b87945-1b31-4ee9-b10b-dae5e15771fe"
      },
      "execution_count": null,
      "outputs": [
        {
          "output_type": "stream",
          "name": "stdout",
          "text": [
            "Index(['country', 'region', 'happiness_score', 'gdp_per_capita',\n",
            "       'social_support', 'healthy_life_expectancy',\n",
            "       'freedom_to_make_life_choices', 'generosity',\n",
            "       'perceptions_of_corruption', 'year'],\n",
            "      dtype='object')\n"
          ]
        }
      ]
    },
    {
      "cell_type": "code",
      "execution_count": 15,
      "metadata": {
        "colab": {
          "base_uri": "https://localhost:8080/"
        },
        "id": "ohnfmxWbzPwS",
        "outputId": "0141256b-6519-4aaf-f294-1384f6c021a3"
      },
      "outputs": [
        {
          "output_type": "stream",
          "name": "stdout",
          "text": [
            "Filtered data saved to: /content/bottom_20_WHR_2018_2022.csv\n"
          ]
        }
      ],
      "source": [
        "import pandas as pd\n",
        "\n",
        "# CSV 파일 로드\n",
        "file_path = \"/content/WHR_2018_2022.csv\"\n",
        "df = pd.read_csv(file_path)\n",
        "\n",
        "# Syria 제외\n",
        "df_filtered = df[df['country'] != 'Syria']\n",
        "\n",
        "# 5년간 평균 Happiness Score 계산\n",
        "avg_happiness = df.groupby('country')['happiness_score'].mean()\n",
        "\n",
        "# Happiness Score 기준으로 정렬 후 하위 20개 선택\n",
        "lowest_20_countries = avg_happiness.nsmallest(20).index\n",
        "\n",
        "# 원본 데이터에서 해당 국가들의 모든 데이터 필터링\n",
        "df_filtered = df[df['country'].isin(lowest_20_countries)]\n",
        "\n",
        "# 결과 저장\n",
        "output_path = \"/content/bottom_20_WHR_2018_2022.csv\"\n",
        "df_filtered.to_csv(output_path, index=False)\n",
        "\n",
        "print(f\"Filtered data saved to: {output_path}\")"
      ]
    }
  ]
}