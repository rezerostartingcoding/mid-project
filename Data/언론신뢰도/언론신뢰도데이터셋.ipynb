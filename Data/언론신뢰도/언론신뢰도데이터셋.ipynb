{
  "nbformat": 4,
  "nbformat_minor": 0,
  "metadata": {
    "colab": {
      "provenance": []
    },
    "kernelspec": {
      "name": "python3",
      "display_name": "Python 3"
    },
    "language_info": {
      "name": "python"
    }
  },
  "cells": [
    {
      "cell_type": "code",
      "execution_count": 19,
      "metadata": {
        "id": "9nnyuh6vw3J-"
      },
      "outputs": [],
      "source": [
        "import pandas as pd\n",
        "import os\n",
        "\n",
        "def add_country_column_to_all():\n",
        "    # 수정된 디렉토리 설정\n",
        "    directory = \"/content/\"\n",
        "\n",
        "    # 디렉토리 내 모든 *_news_trust_data-jdctt.csv 파일 찾기\n",
        "    files = [f for f in os.listdir(directory) if f.endswith(\"_news_trust_data-jdctt.csv\")]\n",
        "\n",
        "    for filename in files:\n",
        "        # 파일명에서 country 정보 추출\n",
        "        country = filename.split(\"_news_trust_data-jdctt.csv\")[0]\n",
        "\n",
        "        # CSV 파일 읽기\n",
        "        df = pd.read_csv(os.path.join(directory, filename))\n",
        "\n",
        "        # country 열 추가\n",
        "        df.insert(0, \"country\", country)\n",
        "\n",
        "        # 새 파일 이름 생성\n",
        "        new_filename = f\"new_{country}_news_trust_data_jdctt.csv\"\n",
        "\n",
        "        # 수정된 파일을 새 이름으로 저장\n",
        "        df.to_csv(os.path.join(directory, new_filename), index=False)\n",
        "\n",
        "        print(f\"Updated file saved as: {new_filename}\")"
      ]
    },
    {
      "cell_type": "code",
      "source": [
        "add_country_column_to_all()"
      ],
      "metadata": {
        "colab": {
          "base_uri": "https://localhost:8080/"
        },
        "id": "WTHSyFbXyfeh",
        "outputId": "fcaf4bcf-b811-4bc6-9123-30def96ef1dd"
      },
      "execution_count": 20,
      "outputs": [
        {
          "output_type": "stream",
          "name": "stdout",
          "text": [
            "Updated file saved as: new_Netherlands_news_trust_data_jdctt.csv\n",
            "Updated file saved as: new_Germany_news_trust_data_jdctt.csv\n",
            "Updated file saved as: new_Norway_news_trust_data_jdctt.csv\n",
            "Updated file saved as: new_India_news_trust_data_jdctt.csv\n",
            "Updated file saved as: new_Australia_news_trust_data_jdctt.csv\n",
            "Updated file saved as: new_Switzerland_news_trust_data_jdctt.csv\n",
            "Updated file saved as: new_Czech Republic_news_trust_data_jdctt.csv\n",
            "Updated file saved as: new_Finland_news_trust_data_jdctt.csv\n",
            "Updated file saved as: new_Ireland_news_trust_data_jdctt.csv\n",
            "Updated file saved as: new_Canada_news_trust_data_jdctt.csv\n",
            "Updated file saved as: new_South Korea_news_trust_data_jdctt.csv\n",
            "Updated file saved as: new_United States_news_trust_data_jdctt.csv\n",
            "Updated file saved as: new_Sweden_news_trust_data_jdctt.csv\n",
            "Updated file saved as: new_United Kingdom_news_trust_data_jdctt.csv\n",
            "Updated file saved as: new_Belgium_news_trust_data_jdctt.csv\n",
            "Updated file saved as: new_Austria_news_trust_data_jdctt.csv\n",
            "Updated file saved as: new_Denmark_news_trust_data_jdctt.csv\n"
          ]
        }
      ]
    },
    {
      "cell_type": "code",
      "source": [
        "import pandas as pd\n",
        "import os\n",
        "\n",
        "def combine_new_files():\n",
        "    # 디렉토리 설정\n",
        "    directory = \"/content/\"\n",
        "\n",
        "    # 디렉토리 내 모든 new_*_news_trust_data_jdctt.csv 파일 찾기\n",
        "    files = [f for f in os.listdir(directory) if f.startswith(\"new_\") and f.endswith(\"_news_trust_data_jdctt.csv\")]\n",
        "\n",
        "    # 빈 리스트로 데이터프레임 저장할 곳 준비\n",
        "    all_data = []\n",
        "\n",
        "    for filename in files:\n",
        "        # 각 CSV 파일 읽기\n",
        "        df = pd.read_csv(os.path.join(directory, filename))\n",
        "\n",
        "        # 읽은 데이터프레임을 리스트에 추가\n",
        "        all_data.append(df)\n",
        "\n",
        "        print(f\"Loaded file: {filename}\")\n",
        "\n",
        "    # 모든 데이터프레임을 하나로 합치기\n",
        "    combined_df = pd.concat(all_data, ignore_index=True)\n",
        "\n",
        "    # 통합된 데이터프레임을 새로운 파일로 저장\n",
        "    combined_filename = \"combined_news_trust_data_jdctt.csv\"\n",
        "    combined_df.to_csv(os.path.join(directory, combined_filename), index=False)\n",
        "\n",
        "    print(f\"Combined file saved as: {combined_filename}\")\n",
        "\n",
        "# 함수 실행\n",
        "combine_new_files()\n"
      ],
      "metadata": {
        "colab": {
          "base_uri": "https://localhost:8080/"
        },
        "id": "36NSmxOw1wsK",
        "outputId": "13335e9a-2a49-4bb8-edee-3c3a7aedc218"
      },
      "execution_count": 21,
      "outputs": [
        {
          "output_type": "stream",
          "name": "stdout",
          "text": [
            "Loaded file: new_Ireland_news_trust_data_jdctt.csv\n",
            "Loaded file: new_Germany_news_trust_data_jdctt.csv\n",
            "Loaded file: new_India_news_trust_data_jdctt.csv\n",
            "Loaded file: new_Denmark_news_trust_data_jdctt.csv\n",
            "Loaded file: new_United States_news_trust_data_jdctt.csv\n",
            "Loaded file: new_United Kingdom_news_trust_data_jdctt.csv\n",
            "Loaded file: new_Switzerland_news_trust_data_jdctt.csv\n",
            "Loaded file: new_South Korea_news_trust_data_jdctt.csv\n",
            "Loaded file: new_Belgium_news_trust_data_jdctt.csv\n",
            "Loaded file: new_Canada_news_trust_data_jdctt.csv\n",
            "Loaded file: new_Czech Republic_news_trust_data_jdctt.csv\n",
            "Loaded file: new_Sweden_news_trust_data_jdctt.csv\n",
            "Loaded file: new_Austria_news_trust_data_jdctt.csv\n",
            "Loaded file: new_Norway_news_trust_data_jdctt.csv\n",
            "Loaded file: new_Australia_news_trust_data_jdctt.csv\n",
            "Loaded file: new_Netherlands_news_trust_data_jdctt.csv\n",
            "Loaded file: new_Finland_news_trust_data_jdctt.csv\n",
            "Combined file saved as: combined_news_trust_data_jdctt.csv\n"
          ]
        }
      ]
    }
  ]
}